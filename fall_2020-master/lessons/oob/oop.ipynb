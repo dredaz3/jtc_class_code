{
 "cells": [
  {
   "cell_type": "markdown",
   "metadata": {},
   "source": [
    "# Before class"
   ]
  },
  {
   "cell_type": "markdown",
   "metadata": {},
   "source": [
    "* Reviewing functions, lists and dictionaries"
   ]
  },
  {
   "cell_type": "markdown",
   "metadata": {},
   "source": [
    "# Outline of class agenda\n",
    "\n",
    "-  Objected Oriented Programming versus Procedural Programming\n",
    "- How to write Python classes to create objects\n",
    "- Inheritance in Python  \n",
    " "
   ]
  },
  {
   "cell_type": "markdown",
   "metadata": {},
   "source": [
    "# Object Oriented Programming"
   ]
  },
  {
   "cell_type": "markdown",
   "metadata": {},
   "source": [
    "### So far...\n",
    "We've been writing code in the style of **Procedural Programming**, i.e. we take blocks of logic and put them inside functions to manipulate data:"
   ]
  },
  {
   "cell_type": "code",
   "execution_count": null,
   "metadata": {},
   "outputs": [],
   "source": [
    "from datetime import datetime\n",
    "\n",
    "ash = {\n",
    "    'name': 'Ash',\n",
    "    'bio': 'Software Developer in NYC',\n",
    "    'tweets': []\n",
    "}\n",
    "\n",
    "paul = {\n",
    "    'name': 'Paul',\n",
    "    'bio': 'PhD student at Columbia University',\n",
    "    'tweets': []\n",
    "}\n",
    "\n",
    "def add_tweet(user, text):\n",
    "        user['tweets'].append({ 'text': text, 'posted': datetime.now() })\n",
    "        \n",
    "        \n",
    "add_tweet(ash, 'Today was the longest day of the summer.')\n",
    "add_tweet(paul, 'Cambridge looks great during fall!')"
   ]
  },
  {
   "cell_type": "markdown",
   "metadata": {},
   "source": [
    "However, there are other styles of programming! Here's the same code but applying concepts of **Objected Oriented Programming**:"
   ]
  },
  {
   "cell_type": "code",
   "execution_count": null,
   "metadata": {},
   "outputs": [],
   "source": [
    "class Tweet():\n",
    "    def __init__(self, text):\n",
    "        self.text = text\n",
    "        self.posted = datetime.now()\n",
    "           \n",
    "class User():\n",
    "    def __init__(self, name, bio):\n",
    "        self.name = name\n",
    "        self.bio = bio\n",
    "        self.tweets = []\n",
    "        \n",
    "    def add_tweet(self, text):\n",
    "        self.tweets.append(Tweet(text))\n",
    "    \n",
    "ash = User('Ash', 'Software Developer in NYC')\n",
    "ash.add_tweet('Today was the longest day of the summer.')\n",
    "\n",
    "paul = User('Paul', 'PhD student at Columbia University')\n",
    "paul.add_tweet('Cambridge looks great during fall!')\n",
    "\n",
    "\n",
    "print(ash.name)\n",
    "print(ash.tweets[0].text)"
   ]
  },
  {
   "cell_type": "markdown",
   "metadata": {},
   "source": [
    "Before we dig into the syntax, here's the key idea behind OOP: We combine data and functionality and wrap it inside something called an **object**. When you're writing large programs or have a problem that is better suited to this method, you can use object oriented programming techniques."
   ]
  },
  {
   "cell_type": "markdown",
   "metadata": {},
   "source": [
    "## Creating a class"
   ]
  },
  {
   "cell_type": "code",
   "execution_count": null,
   "metadata": {},
   "outputs": [],
   "source": [
    "class Person():\n",
    "  def __init__(self, name):\n",
    "    # self.name is an attribute of Person class\n",
    "    self.name = name"
   ]
  },
  {
   "cell_type": "markdown",
   "metadata": {},
   "source": [
    "## Instantiating a class"
   ]
  },
  {
   "cell_type": "code",
   "execution_count": null,
   "metadata": {},
   "outputs": [],
   "source": [
    "person = Person('Mattan')\n",
    "print(person.name) # 'Mattan'"
   ]
  },
  {
   "cell_type": "markdown",
   "metadata": {},
   "source": [
    "## Adding a method to a class"
   ]
  },
  {
   "cell_type": "code",
   "execution_count": null,
   "metadata": {},
   "outputs": [],
   "source": [
    "class Person():\n",
    "  def __init__(self, name):\n",
    "    self.name = name\n",
    "  \n",
    "  # greeting function is a method of Person class\n",
    "  def greeting(self):\n",
    "    return f'Hello, my name is {self.name}'\n",
    "    \n",
    "person = Person('Mattan')\n",
    "\n",
    "print(person.greeting()) # 'Hello, my name is Mattan'"
   ]
  },
  {
   "cell_type": "markdown",
   "metadata": {},
   "source": [
    "## Checking types"
   ]
  },
  {
   "cell_type": "code",
   "execution_count": null,
   "metadata": {},
   "outputs": [],
   "source": [
    "print(ash)\n",
    "print(type(ash))\n",
    "print(ash.tweets[0])\n",
    "print(type(ash.tweets[0]))\n",
    "\n",
    "print(type(ash) == User)\n",
    "print(type(ash.tweets[0]) == Tweet)"
   ]
  },
  {
   "cell_type": "markdown",
   "metadata": {},
   "source": [
    "## Question\n",
    "What if we wanted to add Mattan's age as part of the greeting?"
   ]
  },
  {
   "cell_type": "markdown",
   "metadata": {},
   "source": [
    "**Example**"
   ]
  },
  {
   "cell_type": "code",
   "execution_count": null,
   "metadata": {},
   "outputs": [],
   "source": [
    "print(person.greeting()) # 'Hello, my name is Mattan and I am 28 years old'"
   ]
  },
  {
   "cell_type": "markdown",
   "metadata": {},
   "source": [
    "**Answer**"
   ]
  },
  {
   "cell_type": "code",
   "execution_count": null,
   "metadata": {},
   "outputs": [],
   "source": [
    "class Person():\n",
    "  def __init__(self, name, age):\n",
    "    self.name = str(name)\n",
    "    self.age = int(age)\n",
    "    \n",
    "  def greeting(self):\n",
    "    return f'Hello, my name is {self.name} and I am {self.age} years old'\n",
    "    \n",
    "person = Person('Mattan', 28)\n",
    "\n",
    "print(person.greeting()) # 'Hello, my name is Mattan and I am 28 years old'"
   ]
  },
  {
   "cell_type": "markdown",
   "metadata": {},
   "source": [
    "## Let's dive deeper with other data types\n"
   ]
  },
  {
   "cell_type": "code",
   "execution_count": null,
   "metadata": {},
   "outputs": [],
   "source": [
    "class Cart():\n",
    "  def __init__(self):\n",
    "    # self.items is an attribute of Cart class\n",
    "    self.items = []\n",
    "  \n",
    "  # add function is a method of Cart class\n",
    "  def add(self, name, price):\n",
    "    item = {}\n",
    "    item['name'] = name\n",
    "    item['price'] = price\n",
    "    self.items.append(item)\n",
    "    \n",
    "cart = Cart()\n",
    "\n",
    "# add a few items\n",
    "cart.add('oreos', 12)\n",
    "cart.add('bananas', 2)\n",
    "\n",
    "print(cart.items) # [{'name': 'oreos', 'price': 12}, {'name': 'bananas', 'price': 2}]"
   ]
  },
  {
   "cell_type": "markdown",
   "metadata": {},
   "source": [
    "## Challenge 1"
   ]
  },
  {
   "cell_type": "markdown",
   "metadata": {},
   "source": [
    "Create a method total that returns the total of all items added to Cart including a $ before it."
   ]
  },
  {
   "cell_type": "markdown",
   "metadata": {},
   "source": [
    "**Example**"
   ]
  },
  {
   "cell_type": "code",
   "execution_count": null,
   "metadata": {},
   "outputs": [],
   "source": [
    "cart.add('oreos', 12)\n",
    "cart.add('bananas', 2)\n",
    "\n",
    "print(cart.total()) # $14"
   ]
  },
  {
   "cell_type": "markdown",
   "metadata": {},
   "source": [
    "**Answer**"
   ]
  },
  {
   "cell_type": "code",
   "execution_count": null,
   "metadata": {},
   "outputs": [],
   "source": [
    "def total(self):\n",
    "  cart_total = 0\n",
    "  for item in self.items:\n",
    "    cart_total += item.price\n",
    "  return cart_total"
   ]
  },
  {
   "cell_type": "markdown",
   "metadata": {},
   "source": [
    "## Challenge 2\n"
   ]
  },
  {
   "cell_type": "markdown",
   "metadata": {},
   "source": [
    "Create a method show that returns all items in Cart by name and price."
   ]
  },
  {
   "cell_type": "markdown",
   "metadata": {},
   "source": [
    "**Example**"
   ]
  },
  {
   "cell_type": "code",
   "execution_count": null,
   "metadata": {},
   "outputs": [],
   "source": [
    "cart.add('oreos', 12)\n",
    "cart.add('bananas', 2)\n",
    "\n",
    "print(cart.show())\n",
    "\n",
    "# oreos --- $12\n",
    "# bananas --- $2"
   ]
  },
  {
   "cell_type": "markdown",
   "metadata": {},
   "source": [
    "**Answer**"
   ]
  },
  {
   "cell_type": "code",
   "execution_count": null,
   "metadata": {},
   "outputs": [],
   "source": [
    "def show(self):\n",
    "  str_items = []\n",
    "  for item in self.items:\n",
    "    str_items.append(f'{item.name} --- ${item.price}')\n",
    "  return '\\n'.join(str_items)"
   ]
  },
  {
   "cell_type": "markdown",
   "metadata": {},
   "source": [
    "## Challenge 3\n"
   ]
  },
  {
   "cell_type": "markdown",
   "metadata": {},
   "source": [
    "Create a remove function that removes an item in the items list by it's name."
   ]
  },
  {
   "cell_type": "markdown",
   "metadata": {},
   "source": [
    "**Example**"
   ]
  },
  {
   "cell_type": "code",
   "execution_count": null,
   "metadata": {},
   "outputs": [],
   "source": [
    "# add a few items\n",
    "cart.add('oreos', 12)\n",
    "cart.add('bananas', 2)\n",
    "\n",
    "print(cart.items) # [{'name': 'oreos', 'price': 12}, {'name': 'bananas', 'price': 2}]\n",
    "\n",
    "cart.remove('oreos')\n",
    "print(cart.items) # [{'name': 'bananas', 'price': 2}]"
   ]
  },
  {
   "cell_type": "markdown",
   "metadata": {},
   "source": [
    "**Answer**"
   ]
  },
  {
   "cell_type": "code",
   "execution_count": null,
   "metadata": {},
   "outputs": [],
   "source": [
    "def remove(self, name):\n",
    "  for i in range(len(self.items)):\n",
    "    if self.items[i]['name'] == name:\n",
    "      del self.items[i]\n",
    "      break"
   ]
  },
  {
   "cell_type": "markdown",
   "metadata": {},
   "source": [
    "## Inheritance\n",
    "Objected Oriented Programming can truly be useful when it supports **inheritance**. Sometimes we want to create objects that have similar `attributes` and `methods` but also have their own unique ones. With **inheritance** you can create a **child** class that inherits all `attributes` and `methods` of the **parent** class. Let's see how that works:"
   ]
  },
  {
   "cell_type": "markdown",
   "metadata": {},
   "source": [
    "### Parent Class or Super Class\n",
    "Pretty simple. Nothing different from what we've learned so far."
   ]
  },
  {
   "cell_type": "code",
   "execution_count": null,
   "metadata": {
    "scrolled": true
   },
   "outputs": [],
   "source": [
    "class JTCMember():\n",
    "    def __init__(self, name, lang): \n",
    "        self.name = name\n",
    "        self.lang = lang\n",
    "        \n",
    "    def greeting(self):\n",
    "        print(f'Hello, my name is {self.name} and my favorite programming language is {self.lang}')"
   ]
  },
  {
   "cell_type": "markdown",
   "metadata": {},
   "source": [
    "### Child Class or Sub Class\n",
    "This is where the magic of **inheritance** happens."
   ]
  },
  {
   "cell_type": "code",
   "execution_count": null,
   "metadata": {},
   "outputs": [],
   "source": [
    "class Teacher(JTCMember):\n",
    "    def __init__(self, name, lang, off_hrs):\n",
    "        self.off_hrs = off_hrs\n",
    "        # inherit parent's attributes (name, lang) and methods (greeting) \n",
    "        super().__init__(name, lang)\n",
    "    # start is a unique method in the Teacher sub class\n",
    "    def teach(self):\n",
    "        print(f'{self.name} will now teach a class on {self.lang}')\n",
    "        \n",
    "class Student(JTCMember):\n",
    "    def __init__(self, name, lang):\n",
    "        # inherit parent's attributes (name, lang) and methods (greeting) \n",
    "        super().__init__(name, lang)\n",
    "    # attend is a unique method in the Teacher sub class\n",
    "    def attend(self):\n",
    "        print(f'{self.name} will now attend a class on {self.lang}')"
   ]
  },
  {
   "cell_type": "code",
   "execution_count": null,
   "metadata": {},
   "outputs": [],
   "source": [
    "ash = Teacher('Ash', 'Javascript', '5PM-7PM')\n",
    "ash.greeting()\n",
    "ash.teach()\n",
    "print(ash.off_hrs)\n",
    "\n",
    "yusuf = Student('Yusuf', 'Javascript')\n",
    "yusuf.greeting()\n",
    "yusuf.attend()"
   ]
  },
  {
   "cell_type": "markdown",
   "metadata": {},
   "source": [
    "## Challenge 4"
   ]
  },
  {
   "cell_type": "markdown",
   "metadata": {},
   "source": [
    "Create another sub class that inherits from `JTCMember` called `GuestSpeaker`. The subclass includes attributes `name, lang, industry`. Add a method `share` in the subclass that would print a sentence:"
   ]
  },
  {
   "cell_type": "markdown",
   "metadata": {},
   "source": [
    "**Example**"
   ]
  },
  {
   "cell_type": "code",
   "execution_count": null,
   "metadata": {},
   "outputs": [],
   "source": [
    "sam = GuestSpeaker('Sam', 'Python', \"Finance\")\n",
    "sam.share() # Sam will now share their experience in the Finance industry."
   ]
  },
  {
   "cell_type": "markdown",
   "metadata": {},
   "source": [
    "**Answer**"
   ]
  },
  {
   "cell_type": "code",
   "execution_count": null,
   "metadata": {},
   "outputs": [],
   "source": [
    "class GuestSpeaker(JTCMember):\n",
    "    def __init__(self, name, lang, industry):\n",
    "        # inherit parent's attributes (name, lang) and methods (greeting) \n",
    "        super().__init__(name, lang)\n",
    "    # attend is a unique method in the Teacher sub class\n",
    "    def share(self):\n",
    "        print(f'{self.name} will now share their experience in the {self.lang} industry')"
   ]
  }
 ],
 "metadata": {
  "kernelspec": {
   "display_name": "Python 3",
   "language": "python",
   "name": "python3"
  },
  "language_info": {
   "codemirror_mode": {
    "name": "ipython",
    "version": 3
   },
   "file_extension": ".py",
   "mimetype": "text/x-python",
   "name": "python",
   "nbconvert_exporter": "python",
   "pygments_lexer": "ipython3",
   "version": "3.7.6"
  }
 },
 "nbformat": 4,
 "nbformat_minor": 2
}
