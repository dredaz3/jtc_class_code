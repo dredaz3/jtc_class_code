{
 "cells": [
  {
   "cell_type": "markdown",
   "metadata": {},
   "source": [
    "# Before class"
   ]
  },
  {
   "cell_type": "markdown",
   "metadata": {},
   "source": [
    "* Thing 1 to do before class\n",
    "* Thing 2 to do before class"
   ]
  },
  {
   "cell_type": "markdown",
   "metadata": {},
   "source": [
    "# Outline of class agenda\n",
    "\n",
    "1. Agenda item 1\n",
    "2. Agenda item 2\n",
    "3. Agenda item 3\n",
    " "
   ]
  },
  {
   "cell_type": "markdown",
   "metadata": {},
   "source": [
    "# Using REST APIs"
   ]
  },
  {
   "attachments": {
    "Rest-API.png": {
     "image/png": "[encoded data removed]"
    }
   },
   "cell_type": "markdown",
   "metadata": {},
   "source": [
    "## What is REST?\n",
    "- Useful way to talk to servers to send and receive data\n",
    "- Servers have `endpoints` for the client to request specific resources (auth, blogs, etc)\n",
    "- HTTP verbs like `GET` and `POST` are common types of request - GET a list of tweets, POST your credentials to login\n",
    "\n",
    "Some useful notes here:\n",
    "https://realpython.com/api-integration-in-python/#appendix-rest-in-a-nutshell\n",
    "![Rest-API.png](attachment:Rest-API.png)"
   ]
  },
  {
   "cell_type": "markdown",
   "metadata": {},
   "source": [
    "## HTTP \n",
    "\n",
    "HTTP is a protocol which allows the fetching of resources, such as HTML documents. It is the foundation of any data exchange on the Web and it is a client-server protocol, which means **requests are initiated by the recipient**, usually the Web browser. A complete document is reconstructed from the different sub-documents fetched, for instance text, layout description, images, videos, scripts, and more.\n",
    "\n",
    "https://developer.mozilla.org/en-US/docs/Web/HTTP"
   ]
  },
  {
   "cell_type": "markdown",
   "metadata": {},
   "source": [
    "## HTTP Request Methods or Verbs\n",
    "https://developer.mozilla.org/en-US/docs/Web/HTTP/Methods\n",
    "\n",
    "HTTP defines a set of request methods to indicate the desired action to be performed for a given resource. Although they can also be nouns, these request methods are sometimes referred to as HTTP verbs. A few popular ones:\n",
    "- `GET`\n",
    "- `POST`\n",
    "- `PUT`\n",
    "- `DELETE`\n",
    "\n"
   ]
  },
  {
   "cell_type": "markdown",
   "metadata": {},
   "source": [
    "## URLs\n",
    "\n",
    "The target of an HTTP request is called a \"resource\", whose nature isn't defined further; it can be a document, a photo, or anything else. Each resource is identified by a Uniform Resource Identifier (URI) used throughout HTTP for identifying resources.\n",
    "\n",
    "The most common form of URI is the Uniform Resource Locator (URL), which is known as the web address.\n",
    "- `https://developer.mozilla.org`\n",
    "- `https://developer.mozilla.org/en-US/docs/Learn/`\n",
    "- `https://developer.mozilla.org/en-US/search?q=URL`"
   ]
  },
  {
   "cell_type": "markdown",
   "metadata": {},
   "source": [
    "## HTTP Response Status Codes\n",
    "\n",
    "HTTP response status codes indicate whether a specific HTTP request has been successfully completed. Responses are grouped in five classes:\n",
    "\n",
    "- `100–199` Informational responses,\n",
    "- `200–299` Successful responses,\n",
    "- `300–399` Redirects,\n",
    "- `400–499` Client errors,\n",
    "- `500–599` and Server errors"
   ]
  },
  {
   "cell_type": "markdown",
   "metadata": {},
   "source": [
    "## JSON\n",
    "https://realpython.com/lessons/what-is-json/\n",
    "\n",
    "JavaScript Object Notation (JSON) represents objects as name/value pairs, just like a Python dictionary.\n",
    "\n",
    "- It's a standardized format commonly used to **transfer data as text** that can be sent over a network. \n",
    "- It’s used by lots of APIs and Databases, and it’s easy for both humans and machines to read."
   ]
  },
  {
   "cell_type": "code",
   "execution_count": null,
   "metadata": {},
   "outputs": [],
   "source": [
    "{\n",
    "    # string\n",
    "    \"token\": \"oneverylongstringand12345678910\",\n",
    "    # int or float\n",
    "    \"id\": 1,\n",
    "    # boolean\n",
    "    \"success\": true,\n",
    "    # list\n",
    "    \"roles\": [\"admin\", \"owner\"]\n",
    "    # dictionary\n",
    "    \"details\": { \"name\": \"Ash\" }\n",
    "}"
   ]
  },
  {
   "cell_type": "markdown",
   "metadata": {},
   "source": [
    "When using APIs we will frequently receive JSON objects. But before they can be useful to us, we need to convert them into dictionaries to access it's key/value pairs in Python. Sometimes this is taken for us by an API package, sometimes we need to do the manual work ourselves. More on this soon."
   ]
  },
  {
   "cell_type": "markdown",
   "metadata": {},
   "source": [
    "## Making a simple GET request"
   ]
  },
  {
   "cell_type": "code",
   "execution_count": null,
   "metadata": {},
   "outputs": [],
   "source": [
    "!pip install requests"
   ]
  },
  {
   "cell_type": "code",
   "execution_count": null,
   "metadata": {},
   "outputs": [],
   "source": [
    "import requests"
   ]
  },
  {
   "cell_type": "markdown",
   "metadata": {},
   "source": [
    "## Github Jobs\n",
    "#### Find URL to jobs that have Python as a required skill in the descriptions"
   ]
  },
  {
   "cell_type": "code",
   "execution_count": null,
   "metadata": {},
   "outputs": [],
   "source": [
    "response = requests.get('https://jobs.github.com/positions.json?page=1&search=code')"
   ]
  },
  {
   "cell_type": "code",
   "execution_count": null,
   "metadata": {},
   "outputs": [],
   "source": [
    "jobs = response.json()"
   ]
  },
  {
   "cell_type": "code",
   "execution_count": null,
   "metadata": {},
   "outputs": [],
   "source": [
    "shortlist = []\n",
    "for job in jobs:\n",
    "    if job['description'].find('Python') != -1:\n",
    "        shortlist.append(job['url'])\n",
    "\n",
    "print(shortlist)"
   ]
  },
  {
   "cell_type": "markdown",
   "metadata": {},
   "source": [
    "## Challenge 1 - COVID Tracking Project\n",
    "#### Find current hospitalizations for any state\n",
    "https://covidtracking.com/data/api"
   ]
  },
  {
   "cell_type": "code",
   "execution_count": null,
   "metadata": {},
   "outputs": [],
   "source": [
    "state = str(input('Choose a state: ')).lower()"
   ]
  },
  {
   "cell_type": "code",
   "execution_count": null,
   "metadata": {},
   "outputs": [],
   "source": [
    "url = f'https://covidtracking.com/api/v1/states/{state}/current.json'"
   ]
  },
  {
   "cell_type": "code",
   "execution_count": null,
   "metadata": {},
   "outputs": [],
   "source": [
    "response = requests.get(url)"
   ]
  },
  {
   "cell_type": "code",
   "execution_count": null,
   "metadata": {},
   "outputs": [],
   "source": [
    "data = response.json()"
   ]
  },
  {
   "cell_type": "code",
   "execution_count": null,
   "metadata": {},
   "outputs": [],
   "source": [
    "print(f\"Hospitalized Currently: {data['hospitalizedCurrently']}\")"
   ]
  },
  {
   "cell_type": "markdown",
   "metadata": {},
   "source": [
    "# Making authorized requests"
   ]
  },
  {
   "cell_type": "markdown",
   "metadata": {},
   "source": [
    "### News API\n",
    "#### Find all articles related to police violence \n",
    "https://newsapi.org/docs/client-libraries/python"
   ]
  },
  {
   "cell_type": "code",
   "execution_count": null,
   "metadata": {},
   "outputs": [],
   "source": [
    "!pip install newsapi-python"
   ]
  },
  {
   "cell_type": "code",
   "execution_count": null,
   "metadata": {},
   "outputs": [],
   "source": [
    "import json\n",
    "\n",
    "with open('news_api_key.txt') as file:\n",
    "   api_key = file.read()"
   ]
  },
  {
   "cell_type": "code",
   "execution_count": null,
   "metadata": {},
   "outputs": [],
   "source": [
    "from newsapi import NewsApiClient\n",
    "\n",
    "newsapi = NewsApiClient(api_key)"
   ]
  },
  {
   "cell_type": "code",
   "execution_count": null,
   "metadata": {},
   "outputs": [],
   "source": [
    "def get_article_titles(results):\n",
    "    titles = []\n",
    "    for article in results['articles']:\n",
    "        titles.append(article['title'])\n",
    "    return titles\n",
    "\n",
    "news_results = newsapi.get_everything(q='amazon', language='en')\n",
    "titles = get_article_titles(news_results)\n",
    "\n",
    "print(titles)"
   ]
  },
  {
   "cell_type": "markdown",
   "metadata": {},
   "source": [
    "## Challenge 2\n",
    "#### Get Wired's top headlines about movies"
   ]
  },
  {
   "cell_type": "code",
   "execution_count": null,
   "metadata": {},
   "outputs": [],
   "source": [
    "sources_results = newsapi.get_sources()\n",
    "\n",
    "def get_wired_id(results):\n",
    "    for source in results['sources']:\n",
    "        if source['name'] == 'Wired':\n",
    "            return source['id']\n",
    "        \n",
    "wired_id = get_wired_id(results)\n",
    "\n",
    "headlines_results = newsapi.get_top_headlines(sources=wired_id, q=\"movies\")\n",
    "\n",
    "top_headlines = get_article_titles(headlines_results)\n",
    "\n",
    "print(top_headlines)\n"
   ]
  },
  {
   "cell_type": "markdown",
   "metadata": {},
   "source": [
    "### Spotify API\n",
    "#### Search for an Artist \n",
    "https://spotipy.readthedocs.io/en/2.13.0/"
   ]
  },
  {
   "cell_type": "code",
   "execution_count": null,
   "metadata": {},
   "outputs": [],
   "source": [
    "!pip install spotipy"
   ]
  },
  {
   "cell_type": "code",
   "execution_count": null,
   "metadata": {},
   "outputs": [],
   "source": [
    "import json\n",
    "\n",
    "with open('spotify_secrets.json') as file:\n",
    "    secrets = json.load(file)"
   ]
  },
  {
   "cell_type": "code",
   "execution_count": null,
   "metadata": {},
   "outputs": [],
   "source": [
    "import spotipy\n",
    "from spotipy.oauth2 import SpotifyClientCredentials\n",
    "\n",
    "creds = SpotifyClientCredentials(secrets['client_id'], secrets['client_secret'])\n",
    "sp = spotipy.Spotify(client_credentials_manager=creds)"
   ]
  },
  {
   "cell_type": "code",
   "execution_count": null,
   "metadata": {
    "scrolled": true
   },
   "outputs": [],
   "source": [
    "def get_artist_id(results):\n",
    "    return results['artists']['items'][0]['id']\n",
    "\n",
    "artist_results = sp.search(q='Kendrick Lamar', type='artist')\n",
    "artist_id = get_artist_id(results)\n",
    "\n",
    "print(artist_id)"
   ]
  },
  {
   "cell_type": "markdown",
   "metadata": {},
   "source": [
    "## Challenge 3\n",
    "#### Get an Artist's Top Tracks"
   ]
  },
  {
   "cell_type": "code",
   "execution_count": null,
   "metadata": {},
   "outputs": [],
   "source": [
    "def get_tracks(results):\n",
    "    tracks = []\n",
    "    for track in results['tracks']:\n",
    "        tracks.append(track['name'])\n",
    "    return tracks\n",
    "\n",
    "tracks_results = sp.artist_top_tracks(artist_id, country=\"US\")\n",
    "tracks = get_tracks(tracks_results)\n",
    "\n",
    "print(tracks)"
   ]
  }
 ],
 "metadata": {
  "kernelspec": {
   "display_name": "Python 3",
   "language": "python",
   "name": "python3"
  },
  "language_info": {
   "codemirror_mode": {
    "name": "ipython",
    "version": 3
   },
   "file_extension": ".py",
   "mimetype": "text/x-python",
   "name": "python",
   "nbconvert_exporter": "python",
   "pygments_lexer": "ipython3",
   "version": "3.7.6"
  }
 },
 "nbformat": 4,
 "nbformat_minor": 2
}
