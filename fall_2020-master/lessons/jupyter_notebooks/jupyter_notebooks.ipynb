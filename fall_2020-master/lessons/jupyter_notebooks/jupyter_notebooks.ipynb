{
 "cells": [
  {
   "cell_type": "markdown",
   "metadata": {},
   "source": [
    "# Before class\n",
    "\n",
    "For this class, you'll want to make sure you have Anaconda installed on your computer beforehand. You'll probably have done this earlier in the course, but if not, here are some [instructions](https://docs.anaconda.com/anaconda/install/)"
   ]
  },
  {
   "cell_type": "markdown",
   "metadata": {},
   "source": [
    "# Outline of class agenda\n",
    "\n",
    "\n",
    "During this class you'll: \n",
    "\n",
    "1. Learn what jupyter notebooks are and why they're useful\n",
    "2. Learn how to navigate the jupyter notebook interface\n",
    "3. Get comfortable with making and working with your own notebooks"
   ]
  },
  {
   "cell_type": "markdown",
   "metadata": {},
   "source": [
    "# Class \n",
    "\n",
    "Note: this lesson design was heavily inspired by https://realpython.com/jupyter-notebook-introduction/"
   ]
  },
  {
   "cell_type": "markdown",
   "metadata": {},
   "source": [
    "## 1) Jupyter notebooks: what are they, and why use them?"
   ]
  },
  {
   "cell_type": "markdown",
   "metadata": {},
   "source": [
    "#### What is a jupyter notebook?\n",
    "\n",
    "So far, we've run python code using **scripts** (i.e. running files ending in '.py' from the command line). Jupyter notebooks are another way to run python code that is a little less like a script and a little more like a literal 'notebook'. The biggest difference with jupyter notebooks compared to python scripts it that they are **interactive** so that you can run single lines or pieces of code and get output right away. \n",
    "\n",
    "Here's a summary of what is different about jupyter notebooks from the scripts (i.e. 'pure python') we've worked with so far:\n",
    "\n",
    "* We run jupyter notebooks interactively from a browser (for example Chrome or Firefox)\n",
    "* Jupyter notebooks have individual cells that can be run in any order, and give you immediate output right beneath them\n",
    "* Jupyter notebooks can have cells of formatted text and graphics embedded in them, so you can view them with your code\n",
    "* Jupyter notebooks can run [over 40 other programming languages](https://github.com/jupyter/jupyter/wiki/Jupyter-kernels) too, not just python\n",
    "\n",
    "\n",
    "#### Why use jupyter notebooks?\n",
    "\n",
    "In general, jupyter notebooks are great for any coding where you want to *interact* with your code, view outputs, and make quick changes. So, they are particularly good for things like:\n",
    "\n",
    "* **'rough drafting' your code** -- sketching out and debugging your initial ideas where you can test things out easily and interactively\n",
    "* **data science** -- when you're working with data, being able to interact with it and quickly view lots of outputs is helpful\n",
    "* **graphs & figures** -- jupyter notebooks allow graphs and charts to show up inside your notebook file as you're working\n",
    "* **documents & tutorials** -- the fact that notebooks allow you to integrate graphics and nice Markdown text makes them great for making documents that share combinations of code, text, and graphics with others. In fact, *this lesson* is a jupyter notebook, and most other lessons for this class are as well!"
   ]
  },
  {
   "cell_type": "markdown",
   "metadata": {},
   "source": [
    "## 2) How to navigate jupyter notebooks"
   ]
  },
  {
   "cell_type": "markdown",
   "metadata": {},
   "source": [
    "### Starting the Jupyter Notebook Server\n",
    "\n",
    "One **important** thing to do when starting a jupyter notebook is to think about where you want your notebook file to be on your computer. First, figure out what folder you want to put it in (for example `/Users/Paul/jtc_class_fall_2020/my_jupyter_nobeooks/`), then navigate to that folder using the command line (i.e. with `cd`).\n",
    "\n",
    "Now, you can start up the jupyter notebook server by running the following from the command line:\n",
    "\n",
    "<div class=\"highlight sh\"><pre><span></span><code><span class=\"gp\">$</span> jupyter notebook\n",
    "</code></pre></div>\n",
    "\n",
    "It might take a second, but you should see a browser window pop up that looks like this:"
   ]
  },
  {
   "cell_type": "markdown",
   "metadata": {},
   "source": [
    "<img src=\"https://files.realpython.com/media/01_initial_notebook_screen.cb2ea87d9679.png\" width=600>\n",
    "\n",
    "Now, you're running the Jupyter Notebook Server. This will allow you to make new notebooks, which we'll do now!"
   ]
  },
  {
   "cell_type": "markdown",
   "metadata": {},
   "source": [
    "### Creating a Notebook\n",
    "\n",
    "To make a new notebook, click on the New button (upper right), and it will open up a list of choices. From the dropdown menu, choose Python 3. Then, you should see something like the picture below -- this is a blank jupyter notebook"
   ]
  },
  {
   "cell_type": "markdown",
   "metadata": {},
   "source": [
    "<img src=\"https://files.realpython.com/media/02_new_notebook.015b2f84bb60.png\" width=600>\n",
    "\n",
    "By default, the notebook file is called 'Untitled', so the first thing you may want to do is rename it. You can do this by bringing your mouse over the 'Untitled' name, then clicking it to be able to edit. Now you can put in the name of your choice.\n",
    "\n",
    "<img src=\"https://files.realpython.com/media/03_hello_jupyter.96024ca79ae6.png\" width=600>\n",
    "\n",
    "Once you've done this, if you look in your computer's finder/file browser, you should see a file in the folder you are in with the name you just chose, with the extension `.ipynb`. You can recognize all files ending in `.ipynb` as jupyter notebooks. \n",
    "\n",
    "Remember to save your notebook often as you would with any other files! You can do this by clicking the save icon in the top left next to the `+` sign, or with command + s (Mac) / control + s (PC)"
   ]
  },
  {
   "cell_type": "markdown",
   "metadata": {},
   "source": [
    "### Code Cells\n",
    "\n",
    "Jupyter notebooks are made up of chunks called 'cells'. You can see the separate cells as the different blank chunks on the screen that allow you to type into them. The nice thing about jupyter notebooks is that you can interact with them by running **one cell at a time** without running all the others. You can make a new cell by clicking the `+` button at the top left part of the screen. If you click on the scissors, this will delete the cell you currently have slected.\n",
    "\n",
    "The default cell type is a **code cell**. This is what you can use to write python.\n",
    "\n",
    "Let's give this first code cell a try by adding 2+2. After you've written the code, you can **run** the cell by typing **shift + enter**"
   ]
  },
  {
   "cell_type": "code",
   "execution_count": 1,
   "metadata": {},
   "outputs": [
    {
     "data": {
      "text/plain": [
       "4"
      ]
     },
     "execution_count": 1,
     "metadata": {},
     "output_type": "execute_result"
    }
   ],
   "source": [
    "2+2"
   ]
  },
  {
   "cell_type": "markdown",
   "metadata": {},
   "source": [
    "You should see some output like this. Notice that with this notebooks, we didn't need to use `print()` to see output the way we would using a script. The notebook automatically prints out many outputs for us!\n",
    "\n",
    "\n",
    "Let's try printing some text as well to see how this works:"
   ]
  },
  {
   "cell_type": "code",
   "execution_count": 9,
   "metadata": {},
   "outputs": [
    {
     "name": "stdout",
     "output_type": "stream",
     "text": [
      "Hi, jupyter notebook!\n"
     ]
    }
   ],
   "source": [
    "print('Hi, jupyter notebook!')"
   ]
  },
  {
   "cell_type": "markdown",
   "metadata": {},
   "source": [
    "If we don't use the `print()` function, things actually work pretty much the same way, except that by default, only the LAST line in the cell will be printed out. For example:"
   ]
  },
  {
   "cell_type": "code",
   "execution_count": 13,
   "metadata": {},
   "outputs": [
    {
     "data": {
      "text/plain": [
       "'Time to code'"
      ]
     },
     "execution_count": 13,
     "metadata": {},
     "output_type": "execute_result"
    }
   ],
   "source": [
    "'Hi, juypter notebook!'\n",
    "'Time to code'"
   ]
  },
  {
   "cell_type": "markdown",
   "metadata": {},
   "source": [
    "Here, we don't get any printout for 'Hi, jupyter notebook!'. So, it is important to remember that even though the last line of the cell can automatically show up, we still have to use `print()` if we want to print multiple things within a cell. For example, we could get both those strings to print with:"
   ]
  },
  {
   "cell_type": "code",
   "execution_count": 12,
   "metadata": {},
   "outputs": [
    {
     "name": "stdout",
     "output_type": "stream",
     "text": [
      "Hi, juypter notebook!\n",
      "Time to code\n"
     ]
    }
   ],
   "source": [
    "print('Hi, juypter notebook!')\n",
    "print('Time to code')"
   ]
  },
  {
   "cell_type": "markdown",
   "metadata": {},
   "source": [
    "One other great feature is that we can run code cells multiple times in a row! This helps a lot with debugging, but we also have to be careful with how this works if we're updating variables. To see why, try making a variable called `my_var` in one cell, and assigning it an integer value."
   ]
  },
  {
   "cell_type": "code",
   "execution_count": 14,
   "metadata": {},
   "outputs": [],
   "source": [
    "my_var = 4"
   ]
  },
  {
   "cell_type": "markdown",
   "metadata": {},
   "source": [
    "Now, in a new cell, let's add 1 to `my_var`, and save it back into itself. BUT, what happens if you now run this cell a bunch of times?"
   ]
  },
  {
   "cell_type": "code",
   "execution_count": 19,
   "metadata": {},
   "outputs": [
    {
     "data": {
      "text/plain": [
       "9"
      ]
     },
     "execution_count": 19,
     "metadata": {},
     "output_type": "execute_result"
    }
   ],
   "source": [
    "my_var = my_var + 1\n",
    "my_var"
   ]
  },
  {
   "cell_type": "markdown",
   "metadata": {},
   "source": [
    "This isn't necessarily a problm, but just something to be aware of! Order that cells are run in **matters** in jupyter notebook. You can use the up and down arrows towards the top panel of the screen to move cells up and down if needed (clicking on those will move the currently selected cell). When we're working with them, it often helps to restart and run code cells all the way from the beginning in order again. We'll get to how to do this soon. "
   ]
  },
  {
   "cell_type": "markdown",
   "metadata": {},
   "source": [
    "### Markdown Cells\n",
    "\n",
    "You can use jupyter notebooks not only for code, but you can add text using Markdown cells too. To make a Markdown cell, click on the `+` at the top left to make a new cell, then select 'Markdown' from the dropdown menu (where it says 'Code') toward the top of the screen.\n",
    "\n",
    "Markdown allows you to type text that will not be run as python code, but instead in the Markdown format. You can think of this as text with some fancy formatting. \n",
    "\n",
    "For example, you can use hashtags (#) to make headers. Just one hastag is the largest text, and the more hashtags, the smaller the header text will be.\n",
    "\n",
    "<img src=\"https://files.realpython.com/media/07_headers.dc5aa8999b03.png\" width=600>\n",
    "<img src=\"https://files.realpython.com/media/08_headers.9cfb98853821.png\" width=600>\n",
    "\n",
    "\n",
    "Try making some markdown cells with headers in them to add a header above each code cell in your notebook.\n",
    "\n",
    "We won't spend a lot of time on Markdown formatting now, but you can also add lists, bullets, **bold text**, *italics*, and even images or gifs. If you're interested, here is a [guide to using Markdown](https://medium.com/analytics-vidhya/the-ultimate-markdown-guide-for-jupyter-notebook-d5e5abf728fd)"
   ]
  },
  {
   "cell_type": "markdown",
   "metadata": {},
   "source": [
    "## 3 ) Making and working with jupyter notebooks\n",
    "\n",
    "The menus at the top of the page can really help your workflow with jupyter notebooks: "
   ]
  },
  {
   "cell_type": "markdown",
   "metadata": {},
   "source": [
    "### Using the menus"
   ]
  },
  {
   "cell_type": "markdown",
   "metadata": {},
   "source": [
    "There are a couple of important things to know how to use from the menu at the top. \n",
    "\n",
    "<img src=\"https://files.realpython.com/media/02_new_notebook.015b2f84bb60.png\" width=600>\n",
    "\n",
    "Here are a few of the menu options that might help you get around:\n",
    "\n",
    "**File** (generally anything for saving, copying, or making new files here):\n",
    "* New Notebook\n",
    "* Make a copy\n",
    "* Rename\n",
    "* Download as: this lets you download a viewable version of your document as an html or pdf file (or other formats). By default the downloaded file is in your Downloads folder\n",
    "\n",
    "\n",
    "**Edit** (generally stuff for editing cells here):\n",
    "* Cutting, copying, pasting, moving, and deleting cells\n",
    "* Split cell: splits the cell into 2 cells at your cursor\n",
    "* Finding & replacing\n",
    "\n",
    "**Cell** (very useful for running different selections of cells):\n",
    "* Run Cells: runs **selected** cells only\n",
    "* Run all: runs all the cells. However, any variables you already have assigned before running all cells will stay in the environment and be used\n",
    "* Run all above/run all below\n",
    "\n",
    "**Kernel** (useful for **clean** restarts):\n",
    "* Interrupt: stops cells from running (good if you're stuck with something taking a long time)\n",
    "* Restart: this will *clean out* your whole environment -- all variables you have assigned will be deleted. Good if you want to 'reset'\n",
    "* Restart and run all: This is a *clean run* of the whole notebook, as if you had closed down the server entirely and run it again. This is the best way to make sure your whole notebook runs by itself, in order.\n",
    "\n",
    "**Logout button**:\n",
    "* When you're done working, you can click the logout button at the very top right to close down your jupyter notebook server\n",
    "\n",
    "We'll practice using these menus soon!"
   ]
  },
  {
   "cell_type": "markdown",
   "metadata": {},
   "source": [
    "# Challenge"
   ]
  },
  {
   "cell_type": "markdown",
   "metadata": {},
   "source": [
    "The challenge for this lesson is focused on getting used to working with jupyter notebook layout and workflow!\n",
    "\n",
    "**Part 1**:\n",
    "* Let's start fresh as if you just opened your computer. If you have jupyter notebooks open, log out of them. Close your command line window as well.\n",
    "* Now, use your command line to go into your jtc folder. Make a folder here called 'notebook_examples'\n",
    "* Use `cd` to go into the 'notebook_examples' folder, then run `jupyter notebook` from the command line to start the jupyter notebook server\n",
    "\n",
    "\n",
    "**Part 2**: \n",
    "* Make a new Python 3 notebook\n",
    "* Rename this notebook 'example_1'\n",
    "* In a code cell, make a function `check_odd` that takes an integer as input, returns `True` if it is odd, and returns `False` if not. \n",
    "* In the next code cell, test out the the function on an odd number and make sure that it returns `True`\n",
    "* In the next code cell, test out the the function on an even number and make sure that it returns `False`\n",
    "* In the next code cell, test out the function where you input the string 'hi', rather than an integer. What happens when you run this cell?\n",
    "* Move the previous cell (where the input was 'hi') to be immediately after the one with the function definition in it, before the tests with odd/even numbers. \n",
    "* From the Kernel menu, select **Restart & Run All**. What happens? Why?\n",
    "* Make a Markdown cell, and in it write a description of what happens when you are *running all cells*, but one cell throws an error. Specifically, what happens for cells after that error?\n",
    "\n",
    "**Part 3**:\n",
    "* Start clean again! Shut down the jupyter notebook server\n",
    "* Restart the jupyter notebook server by running `jupyter notebook` from the command line inside the notebook_examples folder\n",
    "* This time, make a new Python 3 notebook called 'hw_1_notebook'.\n",
    "* In this notebook, copy your python code from your `homework1.py` script into the jupyter notebook. \n",
    " * Put each numbered problem into a separate cell\n",
    " * For each problem, put the text describing the assignment for that number into a markdown cell, so that it is easy to separate the problem description from the code\n",
    " * Add a header to each problem with the problem #\n",
    "* Now, make sure that you can run your notebook all the way through, generating answers for each problem as you did with your original .py script\n",
    "* Once your notebook is complete, try downloading it as a pdf file using File --> Download as with the html option. How does it look? \n",
    "\n"
   ]
  },
  {
   "cell_type": "markdown",
   "metadata": {},
   "source": [
    "## More resources"
   ]
  },
  {
   "cell_type": "markdown",
   "metadata": {},
   "source": [
    "[Jupyter notebooks documentation](https://jupyter-notebook.readthedocs.io/en/stable/)\n",
    "\n",
    "[A nice intro to jupyter notebooks](thttps://realpython.com/jupyter-notebook-introduction/) that this lesson borrowed from\n",
    "\n",
    "\n",
    "[How to share and export jupyter notebooks](https://reproducible-science-curriculum.github.io/publication-RR-Jupyter/02-exporting_the_notebook/index.html) from Data Carpentry\n",
    "\n",
    "[Project Jupyter](https://jupyter.org/) has info and updates on new things you can do with jupyter notebooks"
   ]
  }
 ],
 "metadata": {
  "kernelspec": {
   "display_name": "Python 3",
   "language": "python",
   "name": "python3"
  },
  "language_info": {
   "codemirror_mode": {
    "name": "ipython",
    "version": 3
   },
   "file_extension": ".py",
   "mimetype": "text/x-python",
   "name": "python",
   "nbconvert_exporter": "python",
   "pygments_lexer": "ipython3",
   "version": "3.7.4"
  }
 },
 "nbformat": 4,
 "nbformat_minor": 2
}
